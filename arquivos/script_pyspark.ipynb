{
 "cells": [
  {
   "cell_type": "code",
   "execution_count": 1,
   "id": "d430dee9",
   "metadata": {},
   "outputs": [],
   "source": [
    "from pyspark.sql import SparkSession\n",
    "from pyspark.sql import functions as f"
   ]
  },
  {
   "cell_type": "code",
   "execution_count": 2,
   "id": "5eb0f24e",
   "metadata": {},
   "outputs": [],
   "source": [
    "import findspark\n",
    "findspark.init()"
   ]
  },
  {
   "cell_type": "code",
   "execution_count": 3,
   "id": "ff52eebb",
   "metadata": {},
   "outputs": [],
   "source": [
    "spark = SparkSession.builder.getOrCreate()"
   ]
  },
  {
   "cell_type": "code",
   "execution_count": 4,
   "id": "e79cbb83",
   "metadata": {},
   "outputs": [],
   "source": [
    "df = spark.read.format('text').load('C:/Temp/dio/workspace/Desafios e Projetos/data-engineer-bootcamp-dio/desafio-dataproc-gcp-dio/part-00000')"
   ]
  },
  {
   "cell_type": "code",
   "execution_count": 5,
   "id": "78f7850a",
   "metadata": {},
   "outputs": [
    {
     "name": "stdout",
     "output_type": "stream",
     "text": [
      "+--------------+\n",
      "|         value|\n",
      "+--------------+\n",
      "| ('the', 4066)|\n",
      "| ('and', 2969)|\n",
      "|  ('of', 2746)|\n",
      "|   ('I', 2719)|\n",
      "|  ('to', 2144)|\n",
      "|  ('my', 1631)|\n",
      "|   ('a', 1394)|\n",
      "|    ('', 1186)|\n",
      "|  ('in', 1129)|\n",
      "|  ('was', 994)|\n",
      "| ('that', 986)|\n",
      "| ('with', 700)|\n",
      "|  ('had', 679)|\n",
      "|('which', 547)|\n",
      "|  ('but', 541)|\n",
      "+--------------+\n",
      "\n"
     ]
    }
   ],
   "source": [
    "df.limit(15).show()"
   ]
  },
  {
   "cell_type": "code",
   "execution_count": 6,
   "id": "71882dc3",
   "metadata": {},
   "outputs": [],
   "source": [
    "resultado = df.filter(f.split(f.col('value'), ',').getItem(0) != \"(''\").limit(10)"
   ]
  },
  {
   "cell_type": "code",
   "execution_count": 7,
   "id": "7419a128",
   "metadata": {},
   "outputs": [
    {
     "name": "stdout",
     "output_type": "stream",
     "text": [
      "+-------------+\n",
      "|        value|\n",
      "+-------------+\n",
      "|('the', 4066)|\n",
      "|('and', 2969)|\n",
      "| ('of', 2746)|\n",
      "|  ('I', 2719)|\n",
      "| ('to', 2144)|\n",
      "| ('my', 1631)|\n",
      "|  ('a', 1394)|\n",
      "| ('in', 1129)|\n",
      "| ('was', 994)|\n",
      "|('that', 986)|\n",
      "+-------------+\n",
      "\n"
     ]
    }
   ],
   "source": [
    "resultado.show()"
   ]
  },
  {
   "cell_type": "code",
   "execution_count": 8,
   "id": "2ddaebff",
   "metadata": {},
   "outputs": [],
   "source": [
    "(\n",
    "    resultado.write\n",
    "    .format('text')\n",
    "    .mode('overwrite')\n",
    "    .save('C:/Temp/dio/workspace/Desafios e Projetos/data-engineer-bootcamp-dio/desafio-dataproc-gcp-dio/arquivos/df')\n",
    ")"
   ]
  }
 ],
 "metadata": {
  "kernelspec": {
   "display_name": "Python 3",
   "language": "python",
   "name": "python3"
  },
  "language_info": {
   "codemirror_mode": {
    "name": "ipython",
    "version": 3
   },
   "file_extension": ".py",
   "mimetype": "text/x-python",
   "name": "python",
   "nbconvert_exporter": "python",
   "pygments_lexer": "ipython3",
   "version": "3.8.8"
  }
 },
 "nbformat": 4,
 "nbformat_minor": 5
}
